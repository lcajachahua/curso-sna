{
 "cells": [
  {
   "cell_type": "markdown",
   "id": "0e315316",
   "metadata": {},
   "source": [
    "# Componentes para Grafos No Dirigidos"
   ]
  },
  {
   "cell_type": "markdown",
   "id": "d5fb400e",
   "metadata": {},
   "source": [
    "## Descubriendo Componentes Conectados"
   ]
  },
  {
   "cell_type": "code",
   "execution_count": null,
   "id": "8e4f8b97",
   "metadata": {},
   "outputs": [],
   "source": [
    "import networkx as nx\n",
    "import numpy as np\n",
    "import matplotlib.pyplot as plt\n",
    "from networkx.algorithms import community"
   ]
  },
  {
   "cell_type": "markdown",
   "id": "dead18f3",
   "metadata": {},
   "source": [
    "Utilizaremos el Grafo del Club de Karate de Zachary (1970)"
   ]
  },
  {
   "cell_type": "code",
   "execution_count": null,
   "id": "d446af2b",
   "metadata": {},
   "outputs": [],
   "source": [
    "G = nx.karate_club_graph()\n",
    "plt.figure(figsize=(16,9))\n",
    "pos = nx.spring_layout(G, k=0.3)\n",
    "nx.draw_networkx(G, pos)"
   ]
  },
  {
   "cell_type": "markdown",
   "id": "49c1d1ff",
   "metadata": {},
   "source": [
    "Revisamos la información del Grafo"
   ]
  },
  {
   "cell_type": "code",
   "execution_count": null,
   "id": "0909ccc6",
   "metadata": {},
   "outputs": [],
   "source": [
    "print(nx.info(G))"
   ]
  },
  {
   "cell_type": "markdown",
   "id": "85052f46",
   "metadata": {},
   "source": [
    "¿Es una red conectada?"
   ]
  },
  {
   "cell_type": "code",
   "execution_count": null,
   "id": "80c45fd5",
   "metadata": {},
   "outputs": [],
   "source": [
    "nx.is_connected(G)"
   ]
  },
  {
   "cell_type": "markdown",
   "id": "9d2102d1",
   "metadata": {},
   "source": [
    "Cantidad de componentes conectados"
   ]
  },
  {
   "cell_type": "code",
   "execution_count": null,
   "id": "2f2a59fa",
   "metadata": {},
   "outputs": [],
   "source": [
    "nx.number_connected_components(G)"
   ]
  },
  {
   "cell_type": "code",
   "execution_count": null,
   "id": "23b6c3c4",
   "metadata": {},
   "outputs": [],
   "source": [
    "nx.has_bridges(G)"
   ]
  },
  {
   "cell_type": "code",
   "execution_count": null,
   "id": "d6b49b1c",
   "metadata": {},
   "outputs": [],
   "source": [
    "list(nx.bridges(G))"
   ]
  },
  {
   "cell_type": "code",
   "execution_count": null,
   "id": "39810fd8",
   "metadata": {},
   "outputs": [],
   "source": [
    "list(nx.local_bridges(G))"
   ]
  },
  {
   "cell_type": "markdown",
   "id": "14027953",
   "metadata": {},
   "source": [
    "### Algoritmo de Clustering de Girvan Newman"
   ]
  },
  {
   "cell_type": "code",
   "execution_count": null,
   "id": "986f636f",
   "metadata": {},
   "outputs": [],
   "source": [
    "communities = community.centrality.girvan_newman(G)"
   ]
  },
  {
   "cell_type": "code",
   "execution_count": null,
   "id": "07868207",
   "metadata": {},
   "outputs": [],
   "source": [
    "#tuple(sorted(c) for c in next(communities))"
   ]
  },
  {
   "cell_type": "code",
   "execution_count": null,
   "id": "b3ccac18",
   "metadata": {},
   "outputs": [],
   "source": [
    "node_groups = []\n",
    "for com in next(communities):\n",
    "    node_groups.append(list(com))\n",
    "print(node_groups)"
   ]
  },
  {
   "cell_type": "code",
   "execution_count": null,
   "id": "52825d13",
   "metadata": {},
   "outputs": [],
   "source": [
    "plt.figure(figsize=(16,9))\n",
    "color_map = []\n",
    "for node in G:\n",
    "    if node in node_groups[0]:\n",
    "        color_map.append('b')\n",
    "    else: \n",
    "        color_map.append('g')  \n",
    "nx.draw_networkx(G, pos=pos, node_color=color_map, with_labels=True)\n",
    "plt.show()"
   ]
  },
  {
   "cell_type": "markdown",
   "id": "20259836",
   "metadata": {},
   "source": [
    "## Algoritmo Label Propagation"
   ]
  },
  {
   "cell_type": "code",
   "execution_count": null,
   "id": "0d0abcdb",
   "metadata": {},
   "outputs": [],
   "source": [
    "compr=community.label_propagation_communities(G)"
   ]
  },
  {
   "cell_type": "code",
   "execution_count": null,
   "id": "e69f5d3a",
   "metadata": {},
   "outputs": [],
   "source": [
    "colors = [\"#00C98D\", \"#5030C0\", \"#50F0F0\"]\n",
    "color_map_b = [\"black\"] * nx.number_of_nodes(G)\n",
    "counter = 0\n",
    "for c in compr:\n",
    "    for n in c:\n",
    "        color_map_b[n] = colors[counter]\n",
    "    counter = counter + 1\n",
    "plt.figure(figsize=(16,9))\n",
    "nx.draw_networkx_edges(G, pos)\n",
    "nx.draw_networkx_nodes(G, pos, node_color=color_map_b)\n",
    "nx.draw_networkx_labels(G, pos)\n",
    "plt.show()"
   ]
  },
  {
   "cell_type": "markdown",
   "id": "40461b28",
   "metadata": {},
   "source": [
    "## Algoritmo Greedy Modularity"
   ]
  },
  {
   "cell_type": "code",
   "execution_count": null,
   "id": "9eb70461",
   "metadata": {},
   "outputs": [],
   "source": [
    "comgm = community.greedy_modularity_communities(G)"
   ]
  },
  {
   "cell_type": "code",
   "execution_count": null,
   "id": "099972a6",
   "metadata": {},
   "outputs": [],
   "source": [
    "color_map_b = [\"black\"] * nx.number_of_nodes(G)\n",
    "counter = 0\n",
    "for c in comgm:\n",
    "    for n in c:\n",
    "        color_map_b[n] = colors[counter]\n",
    "    counter = counter + 1\n",
    "plt.figure(figsize=(16,9))\n",
    "nx.draw_networkx_edges(G, pos)\n",
    "nx.draw_networkx_nodes(G, pos, node_color=color_map_b)\n",
    "nx.draw_networkx_labels(G, pos)\n",
    "plt.show()"
   ]
  },
  {
   "cell_type": "markdown",
   "id": "1deb196c",
   "metadata": {},
   "source": [
    "## Algoritmo de Kernighan-Lin\n",
    "Es necesario fijar un enlace de inicio para empezar a recorrer el grafo"
   ]
  },
  {
   "cell_type": "code",
   "execution_count": null,
   "id": "9e1e9291",
   "metadata": {},
   "outputs": [],
   "source": [
    "init_nodes = np.array_split(G.nodes(), 2)\n",
    "init_partition = [set(init_nodes[0]), set(init_nodes[1])]\n",
    "print(init_partition)"
   ]
  },
  {
   "cell_type": "code",
   "execution_count": null,
   "id": "cf6acc6d",
   "metadata": {},
   "outputs": [],
   "source": [
    "color_map_i = [\"black\"] * nx.number_of_nodes(G)\n",
    "counter = 0\n",
    "for c in init_partition:\n",
    "    for n in c:\n",
    "        color_map_i[n] = colors[counter]\n",
    "    counter = counter +1\n",
    "plt.figure(figsize=(16,9))\n",
    "nx.draw_networkx_edges(G, pos)\n",
    "nx.draw_networkx_nodes(G, pos, node_color=color_map_i)\n",
    "nx.draw_networkx_labels(G, pos)\n",
    "plt.show()"
   ]
  },
  {
   "cell_type": "code",
   "execution_count": null,
   "id": "b2bd3d22",
   "metadata": {},
   "outputs": [],
   "source": [
    "comkl = community.kernighan_lin_bisection(G, partition=init_partition)"
   ]
  },
  {
   "cell_type": "code",
   "execution_count": null,
   "id": "a603c310",
   "metadata": {},
   "outputs": [],
   "source": [
    "color_map_b = [\"black\"] * nx.number_of_nodes(G)\n",
    "counter = 0\n",
    "for c in comkl:\n",
    "    for n in c:\n",
    "        color_map_b[n] = colors[counter]\n",
    "    counter = counter + 1\n",
    "plt.figure(figsize=(16,9))\n",
    "nx.draw_networkx_edges(G, pos)\n",
    "nx.draw_networkx_nodes(G, pos, node_color=color_map_b)\n",
    "nx.draw_networkx_labels(G, pos)\n",
    "plt.show()"
   ]
  },
  {
   "cell_type": "markdown",
   "id": "2a1e4d92",
   "metadata": {},
   "source": [
    "# Redes con varios Componentes Conectados y Pesos"
   ]
  },
  {
   "cell_type": "markdown",
   "id": "5eaa5c6f",
   "metadata": {},
   "source": [
    "Creamos una Red de tres componentes conectados"
   ]
  },
  {
   "cell_type": "code",
   "execution_count": null,
   "id": "6add6f05",
   "metadata": {},
   "outputs": [],
   "source": [
    "G = nx.Graph()\n",
    "G.add_weighted_edges_from([('A', 'B',5),('B', 'C',7),('C', 'A',2),('E', 'F',5),('D', 'E',4),('C', 'E',3),('D', 'C',1),('C', 'F',6)])\n",
    "G.add_weighted_edges_from([('H', 'I',2),('I', 'J',1),('J', 'K',2),('H', 'J',3),('I', 'K',4),('H', 'K',2)])\n",
    "G.add_weighted_edges_from([('M', 'N',3),('N', 'O',7),('N', 'P',4),('P', 'R',1),('P', 'Q',2),('Q', 'R',1),('O', 'P',5),('M', 'O',2),('M', 'R',1),('O', 'S',6)])\n",
    "print(G.nodes(), G.edges())"
   ]
  },
  {
   "cell_type": "code",
   "execution_count": null,
   "id": "3313b41d",
   "metadata": {},
   "outputs": [],
   "source": [
    "plt.figure(figsize=(16,9))\n",
    "pos=nx.spring_layout(G)\n",
    "nx.draw_networkx(G,pos)"
   ]
  },
  {
   "cell_type": "code",
   "execution_count": null,
   "id": "fbfdacf8",
   "metadata": {},
   "outputs": [],
   "source": [
    "nx.is_connected(G)"
   ]
  },
  {
   "cell_type": "code",
   "execution_count": null,
   "id": "0867733f",
   "metadata": {},
   "outputs": [],
   "source": [
    "nx.number_connected_components(G)"
   ]
  },
  {
   "cell_type": "markdown",
   "id": "44ab230b",
   "metadata": {},
   "source": [
    "Listar nodos que forman parte del componente conectado de un nodo específico"
   ]
  },
  {
   "cell_type": "code",
   "execution_count": null,
   "id": "ab5e0c6d",
   "metadata": {},
   "outputs": [],
   "source": [
    "nx.node_connected_component(G, 'C')"
   ]
  },
  {
   "cell_type": "code",
   "execution_count": null,
   "id": "850ffc7b",
   "metadata": {},
   "outputs": [],
   "source": [
    "nx.node_connected_component(G, 'P')"
   ]
  },
  {
   "cell_type": "markdown",
   "id": "79860113",
   "metadata": {},
   "source": [
    "Lista de todos los componentes"
   ]
  },
  {
   "cell_type": "code",
   "execution_count": null,
   "id": "eac073ae",
   "metadata": {},
   "outputs": [],
   "source": [
    "list(nx.connected_components(G))"
   ]
  },
  {
   "cell_type": "markdown",
   "id": "f939f2a7",
   "metadata": {},
   "source": [
    "Tamaño de cada componente conectado"
   ]
  },
  {
   "cell_type": "code",
   "execution_count": null,
   "id": "79f14200",
   "metadata": {},
   "outputs": [],
   "source": [
    "[len(c) for c in nx.connected_components(G) if len(c) > 2]"
   ]
  },
  {
   "cell_type": "markdown",
   "id": "756a9fa1",
   "metadata": {},
   "source": [
    "Extraer el grafo para cada componente conectado"
   ]
  },
  {
   "cell_type": "code",
   "execution_count": null,
   "id": "4681f296",
   "metadata": {},
   "outputs": [],
   "source": [
    "S = [G.subgraph(c).copy() for c in nx.connected_components(G)]\n",
    "S"
   ]
  },
  {
   "cell_type": "markdown",
   "id": "580f46c1",
   "metadata": {},
   "source": [
    "Identificar el componente conectado más grande"
   ]
  },
  {
   "cell_type": "code",
   "execution_count": null,
   "id": "eb36d3ef",
   "metadata": {},
   "outputs": [],
   "source": [
    "largest_cc = max(nx.connected_components(G), key=len)\n",
    "largest_cc"
   ]
  },
  {
   "cell_type": "markdown",
   "id": "a7d25a44",
   "metadata": {},
   "source": [
    "Explorar cada Subgrafo"
   ]
  },
  {
   "cell_type": "code",
   "execution_count": null,
   "id": "7588bcb4",
   "metadata": {},
   "outputs": [],
   "source": [
    "print(nx.info(S[2]))"
   ]
  },
  {
   "cell_type": "code",
   "execution_count": null,
   "id": "075d87e2",
   "metadata": {},
   "outputs": [],
   "source": [
    "print(S[2].nodes(), S[2].edges())"
   ]
  },
  {
   "cell_type": "markdown",
   "id": "c509530e",
   "metadata": {},
   "source": [
    "Función para filtrar los enlaces que tienen un peso menor a un límite fijado por el argumento \"weight\""
   ]
  },
  {
   "cell_type": "code",
   "execution_count": null,
   "id": "acc332f8",
   "metadata": {},
   "outputs": [],
   "source": [
    "def trim_edges(g, weight=1):\n",
    "        g2=nx.Graph()\n",
    "        for f, to, edata in g.edges(data=True):\n",
    "                if edata['weight'] > weight:\n",
    "                        g2.add_edge(f,to,weight=edata)\n",
    "        return g2"
   ]
  },
  {
   "cell_type": "code",
   "execution_count": null,
   "id": "ed57a998",
   "metadata": {},
   "outputs": [],
   "source": [
    "G1=trim_edges(G,3)"
   ]
  },
  {
   "cell_type": "code",
   "execution_count": null,
   "id": "d3ec1bac",
   "metadata": {},
   "outputs": [],
   "source": [
    "print(G1.nodes(), G1.edges())"
   ]
  },
  {
   "cell_type": "markdown",
   "id": "09d5bbf7",
   "metadata": {},
   "source": [
    "Función del \"Método de la Isla\" para ir extrayendo componentes con distintos pesos mínimos"
   ]
  },
  {
   "cell_type": "code",
   "execution_count": null,
   "id": "23af5de8",
   "metadata": {},
   "outputs": [],
   "source": [
    "def island_method(g, iterations=5):\n",
    "    weights= [edata['weight'] for f,to,edata in g.edges(data=True)]\n",
    "    mn=int(min(weights))\n",
    "    mx=int(max(weights))\n",
    "    #compute the size of the step, so we get a reasonable step in iterations\n",
    "    step=int((mx-mn)/iterations)\n",
    "    return [[threshold, trim_edges(g, threshold)] for threshold in range(mn,mx,step)]"
   ]
  },
  {
   "cell_type": "markdown",
   "id": "304af2d3",
   "metadata": {},
   "source": [
    "Cada iteración representa un cambio en el valor mínimo de los enlaces "
   ]
  },
  {
   "cell_type": "code",
   "execution_count": null,
   "id": "27aa7e48",
   "metadata": {},
   "outputs": [],
   "source": [
    "G2=island_method(G)\n",
    "G2"
   ]
  },
  {
   "cell_type": "markdown",
   "id": "7b757146",
   "metadata": {},
   "source": [
    "Explorar los resultados considerando un peso mayor que 2"
   ]
  },
  {
   "cell_type": "code",
   "execution_count": null,
   "id": "9a065759",
   "metadata": {},
   "outputs": [],
   "source": [
    "print(G2[1][1].nodes(), G2[1][1].edges())"
   ]
  },
  {
   "cell_type": "markdown",
   "id": "4a7dd2f9",
   "metadata": {},
   "source": [
    "Explorar los resultados considerando un peso mayor que 5"
   ]
  },
  {
   "cell_type": "code",
   "execution_count": null,
   "id": "6adcbfed",
   "metadata": {},
   "outputs": [],
   "source": [
    "print(G2[4][1].nodes(), G2[4][1].edges())"
   ]
  },
  {
   "cell_type": "markdown",
   "id": "05e7d331",
   "metadata": {},
   "source": [
    "También se puede aplicar el método de la isla al componente más grande, para reducir su tamaño y complejidad"
   ]
  },
  {
   "cell_type": "code",
   "execution_count": null,
   "id": "1661899d",
   "metadata": {},
   "outputs": [],
   "source": [
    "islands=island_method(S[2])"
   ]
  },
  {
   "cell_type": "markdown",
   "id": "7e932380",
   "metadata": {},
   "source": [
    "Print the threshold level, size of the graph, and number of connected components"
   ]
  },
  {
   "cell_type": "code",
   "execution_count": null,
   "id": "66b5b213",
   "metadata": {},
   "outputs": [],
   "source": [
    "for i in islands:\n",
    "    print(i[0], len(i[1]), nx.number_connected_components(i[1]))"
   ]
  },
  {
   "cell_type": "markdown",
   "id": "1fe20be1",
   "metadata": {},
   "source": [
    "### Algoritmo de Clustering de Girvan Newman"
   ]
  },
  {
   "cell_type": "code",
   "execution_count": null,
   "id": "f0e28e93",
   "metadata": {},
   "outputs": [],
   "source": [
    "communities = community.centrality.girvan_newman(G)"
   ]
  },
  {
   "cell_type": "code",
   "execution_count": null,
   "id": "4fc6fd9d",
   "metadata": {},
   "outputs": [],
   "source": [
    "#tuple(sorted(c) for c in next(communities))"
   ]
  },
  {
   "cell_type": "code",
   "execution_count": null,
   "id": "975f7f0b",
   "metadata": {},
   "outputs": [],
   "source": [
    "node_groups = []\n",
    "for com in next(communities):\n",
    "    node_groups.append(list(com))\n",
    "print(node_groups)"
   ]
  },
  {
   "cell_type": "code",
   "execution_count": null,
   "id": "70593657",
   "metadata": {},
   "outputs": [],
   "source": [
    "plt.figure(figsize=(16,9))\n",
    "color_map = []\n",
    "for node in G:\n",
    "    if node in node_groups[0]:\n",
    "        color_map.append('b')\n",
    "    else:\n",
    "        if node in node_groups[1]:\n",
    "            color_map.append('g')\n",
    "        else:\n",
    "            if node in node_groups[2]:\n",
    "                color_map.append('r')\n",
    "            else:\n",
    "                color_map.append('y')\n",
    "nx.draw_networkx(G, pos=pos, node_color=color_map, with_labels=True)\n",
    "plt.show()"
   ]
  },
  {
   "cell_type": "markdown",
   "id": "630e36ee",
   "metadata": {},
   "source": [
    "Elaborado por Luis Cajachahua bajo licencia MIT (2021)"
   ]
  }
 ],
 "metadata": {
  "kernelspec": {
   "display_name": "Python 3",
   "language": "python",
   "name": "python3"
  },
  "language_info": {
   "codemirror_mode": {
    "name": "ipython",
    "version": 3
   },
   "file_extension": ".py",
   "mimetype": "text/x-python",
   "name": "python",
   "nbconvert_exporter": "python",
   "pygments_lexer": "ipython3",
   "version": "3.7.10"
  }
 },
 "nbformat": 4,
 "nbformat_minor": 5
}
