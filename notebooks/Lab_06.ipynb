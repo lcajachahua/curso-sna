{
 "cells": [
  {
   "cell_type": "markdown",
   "id": "8d7720d7",
   "metadata": {},
   "source": [
    "# Caso: Análisis de Fuga de una Empresa de Telecomunicaciones"
   ]
  },
  {
   "cell_type": "markdown",
   "id": "de55ec24",
   "metadata": {},
   "source": [
    "## Cargar archivos csv\n",
    "Utilizamos un Call Detail Record de ejemplo\n",
    "##### Clientes llamantes: 199\n",
    "##### Clientes llamados: 400\n",
    "##### Horizonte de tiempo: De Nov-2012 a Abr-2013 (6 meses)"
   ]
  },
  {
   "cell_type": "code",
   "execution_count": null,
   "id": "a996a89d",
   "metadata": {},
   "outputs": [],
   "source": [
    "import pandas as pd\n",
    "import numpy as np \n",
    "import matplotlib.pyplot as plt\n",
    "import networkx as nx\n",
    "import time"
   ]
  },
  {
   "cell_type": "code",
   "execution_count": null,
   "id": "e9cdff9a",
   "metadata": {},
   "outputs": [],
   "source": [
    "ll = pd.read_csv('../data/llamadas2.csv')"
   ]
  },
  {
   "cell_type": "markdown",
   "id": "7f1f6cf7",
   "metadata": {},
   "source": [
    "Revisamos la información del DataFrame"
   ]
  },
  {
   "cell_type": "code",
   "execution_count": null,
   "id": "a6c8ae27",
   "metadata": {},
   "outputs": [],
   "source": [
    "ll.info()"
   ]
  },
  {
   "cell_type": "code",
   "execution_count": null,
   "id": "3aeb4ed3",
   "metadata": {},
   "outputs": [],
   "source": [
    "ll.head()"
   ]
  },
  {
   "cell_type": "markdown",
   "id": "7e308083",
   "metadata": {},
   "source": [
    "Transformamos el DataFrame en un Grafo dirigido con pesos (cantidad de llamadas y duración)"
   ]
  },
  {
   "cell_type": "code",
   "execution_count": null,
   "id": "4e984d4b",
   "metadata": {},
   "outputs": [],
   "source": [
    "G = nx.from_pandas_edgelist(ll, source=\"fromuserid\", target=\"touserid\", edge_attr=[\"numbercalls\",\"secondscalls\"], create_using=nx.DiGraph())\n",
    "print(nx.info(G))"
   ]
  },
  {
   "cell_type": "markdown",
   "id": "14a4506f",
   "metadata": {},
   "source": [
    "Cargamos la lista de flags de baja"
   ]
  },
  {
   "cell_type": "code",
   "execution_count": null,
   "id": "165ce73b",
   "metadata": {},
   "outputs": [],
   "source": [
    "fl = pd.read_csv('../data/flagc.csv',index_col=\"fromuserid\")"
   ]
  },
  {
   "cell_type": "code",
   "execution_count": null,
   "id": "7d525f87",
   "metadata": {},
   "outputs": [],
   "source": [
    "fl.head()"
   ]
  },
  {
   "cell_type": "markdown",
   "id": "7491f8d1",
   "metadata": {},
   "source": [
    "Agregamos a cada nodo el atributo de fuga."
   ]
  },
  {
   "cell_type": "code",
   "execution_count": null,
   "id": "5d7a40eb",
   "metadata": {},
   "outputs": [],
   "source": [
    "nx.set_node_attributes(G, dict(fl[\"flagc\"]), 'churn')\n",
    "nx.set_node_attributes(G, dict(fl[\"baj1\"]), 'baj1')\n",
    "nx.set_node_attributes(G, dict(fl[\"baj2\"]), 'baj2')\n",
    "nx.set_node_attributes(G, dict(fl[\"baj3\"]), 'baj3')"
   ]
  },
  {
   "cell_type": "markdown",
   "id": "19576810",
   "metadata": {},
   "source": [
    "Visualización del grafo representando los estados de cada nodo a Abril 2013 ( 0 = No fuga; 1 = Fuga en Ene-Feb y 2 = Fuga en Mar-Abr)"
   ]
  },
  {
   "cell_type": "code",
   "execution_count": null,
   "id": "8c954c15",
   "metadata": {},
   "outputs": [],
   "source": [
    "plt.figure(figsize=(80,45)) \n",
    "node_colors = ['b' if G.nodes[v]['churn'] == 1\n",
    "               else 'r' if G.nodes[v]['churn'] == 2\n",
    "               else 'g' for v in G]\n",
    "nx.draw_networkx(G, width=0.1, label=True, node_color=node_colors)\n",
    "plt.show()"
   ]
  },
  {
   "cell_type": "markdown",
   "id": "e1ce8c92",
   "metadata": {},
   "source": [
    "Identificamos algunos nodos que podrían estar relacionados con los churners"
   ]
  },
  {
   "cell_type": "code",
   "execution_count": null,
   "id": "9260855c",
   "metadata": {},
   "outputs": [],
   "source": [
    "list(G.successors(350007))"
   ]
  },
  {
   "cell_type": "code",
   "execution_count": null,
   "id": "042d0a85",
   "metadata": {},
   "outputs": [],
   "source": [
    "list(G.predecessors(350007))"
   ]
  },
  {
   "cell_type": "code",
   "execution_count": null,
   "id": "10c1e06d",
   "metadata": {},
   "outputs": [],
   "source": [
    "S = nx.bfs_tree(G,350020,depth_limit=2)\n",
    "plt.figure(figsize=(64,36))\n",
    "nx.draw_networkx(S, width=0.1)"
   ]
  },
  {
   "cell_type": "markdown",
   "id": "bdacb770",
   "metadata": {},
   "source": [
    "Extraemos un subgrafo para analizar la incidencia de la Fuga en Ene-Feb"
   ]
  },
  {
   "cell_type": "code",
   "execution_count": null,
   "id": "5c0ef20e",
   "metadata": {},
   "outputs": [],
   "source": [
    "SG = nx.subgraph(G, [350002,350006,350007,350009,350008,350010,350011,350012,350014,350019,350020,350022,350023,350026,350029,350032,350033,350050,350051,350060,350107,350186])\n",
    "plt.figure(figsize=(16,9))\n",
    "spr = nx.spring_layout(SG, k=0.3)\n",
    "node_colors = ['b' if SG.nodes[v]['churn'] == 1\n",
    "               else 'g' for v in SG]\n",
    "nx.draw_networkx(SG, width=0.1, label=True, pos=spr, node_color=node_colors)"
   ]
  },
  {
   "cell_type": "markdown",
   "id": "eb6e7d43",
   "metadata": {},
   "source": [
    "Ahora visualizamos el efecto de propagación en Mar-Abr"
   ]
  },
  {
   "cell_type": "code",
   "execution_count": null,
   "id": "87876c0f",
   "metadata": {},
   "outputs": [],
   "source": [
    "plt.figure(figsize=(16,9))\n",
    "node_colors = ['b' if SG.nodes[v]['churn'] == 1\n",
    "               else 'r' if SG.nodes[v]['churn'] == 2\n",
    "               else 'g' for v in SG]\n",
    "nx.draw_networkx(SG, width=0.1, label=True, pos=spr, node_color=node_colors)"
   ]
  },
  {
   "cell_type": "markdown",
   "id": "9ebc4e26",
   "metadata": {},
   "source": [
    "## Armando un Subgrafo Ego"
   ]
  },
  {
   "cell_type": "code",
   "execution_count": null,
   "id": "1904b79a",
   "metadata": {},
   "outputs": [],
   "source": [
    "E1=nx.ego_graph(G.to_undirected(),350001)\n",
    "E2=nx.ego_graph(G.to_undirected(),350010)\n",
    "E=nx.compose(E1,E2)\n",
    "plt.figure(figsize=(16,9))\n",
    "nx.draw_networkx(E, width=0.1)"
   ]
  },
  {
   "cell_type": "code",
   "execution_count": null,
   "id": "d007710c",
   "metadata": {},
   "outputs": [],
   "source": [
    "plt.figure(figsize=(32,18))\n",
    "spr = nx.spring_layout(E, k=0.3)\n",
    "node_colors = ['b' if E.nodes[v]['churn'] == 1\n",
    "               else 'g' for v in E]\n",
    "nx.draw_networkx(E, width=0.1, label=True, pos=spr, node_color=node_colors)"
   ]
  },
  {
   "cell_type": "code",
   "execution_count": null,
   "id": "0008fbb2",
   "metadata": {},
   "outputs": [],
   "source": [
    "plt.figure(figsize=(32,18))\n",
    "node_colors = ['b' if E.nodes[v]['churn'] == 1\n",
    "               else 'r' if E.nodes[v]['churn'] == 2\n",
    "               else 'g' for v in E]\n",
    "nx.draw_networkx(E, width=0.1, label=True, pos=spr, node_color=node_colors)"
   ]
  },
  {
   "cell_type": "markdown",
   "id": "3f24961e",
   "metadata": {},
   "source": [
    "## Análisis de Propagación del Churn\n",
    "Generamos la función de cálculo de influencia promedio de los churners sobre los otros clientes"
   ]
  },
  {
   "cell_type": "code",
   "execution_count": null,
   "id": "34f295ad",
   "metadata": {},
   "outputs": [],
   "source": [
    "def calculate_avg_score(G, node_id):\n",
    "    score_sum = 0\n",
    "    n_neighbors = 0\n",
    "    for neighbor_id in G[node_id]:\n",
    "        score_sum += G.nodes[neighbor_id]['baj1']\n",
    "        n_neighbors += 1\n",
    "    return score_sum / n_neighbors"
   ]
  },
  {
   "cell_type": "code",
   "execution_count": null,
   "id": "0cf0a449",
   "metadata": {},
   "outputs": [],
   "source": [
    "calculate_avg_score(E, 350013)"
   ]
  },
  {
   "cell_type": "code",
   "execution_count": null,
   "id": "c45dfa9f",
   "metadata": {},
   "outputs": [],
   "source": [
    "calculate_avg_score(E, 350025)"
   ]
  },
  {
   "cell_type": "code",
   "execution_count": null,
   "id": "8db765f0",
   "metadata": {},
   "outputs": [],
   "source": [
    "calculate_avg_score(E, 350114)"
   ]
  },
  {
   "cell_type": "markdown",
   "id": "b4a3c238",
   "metadata": {},
   "source": [
    "Creamos una función de Propagación para hacer un cálculo iterativo que nos muestre las probabilidades de Churn"
   ]
  },
  {
   "cell_type": "code",
   "execution_count": null,
   "id": "4ec6208f",
   "metadata": {},
   "outputs": [],
   "source": [
    "def propagate(G):\n",
    "    next_scores = {}\n",
    "    for node_id in G.nodes():\n",
    "        if G.nodes[node_id]['churn']==1:\n",
    "            next_scores[node_id] = G.nodes[node_id]['baj1']\n",
    "        else:\n",
    "            next_scores[node_id] = calculate_avg_score(G, node_id)\n",
    "    for node_id in next_scores:\n",
    "        G.nodes[node_id]['baj1'] = next_scores[node_id]"
   ]
  },
  {
   "cell_type": "code",
   "execution_count": null,
   "id": "26702909",
   "metadata": {},
   "outputs": [],
   "source": [
    "propagate(E)"
   ]
  },
  {
   "cell_type": "markdown",
   "id": "1b27abc5",
   "metadata": {},
   "source": [
    "Ejecutamos hasta la convergencia"
   ]
  },
  {
   "cell_type": "code",
   "execution_count": null,
   "id": "2c897a75",
   "metadata": {},
   "outputs": [],
   "source": [
    "n_steps = 5\n",
    "for i in range(n_steps):\n",
    "    propagate(G)\n",
    "    print(\"=== After {} steps ===\".format(i+1))\n",
    "    print(\"Nodo 350025 = {}\".format(G.nodes[350025]['baj1']))\n",
    "    print(\"Nodo 350114 = {}\".format(G.nodes[350114]['baj1']))"
   ]
  },
  {
   "cell_type": "markdown",
   "id": "62c67a26",
   "metadata": {},
   "source": [
    "Podemos extender este resultado a un listado de clientes en particular"
   ]
  },
  {
   "cell_type": "markdown",
   "id": "61c0cceb",
   "metadata": {},
   "source": [
    "Elaborado por Luis Cajachahua bajo licencia MIT (2021)"
   ]
  }
 ],
 "metadata": {
  "kernelspec": {
   "display_name": "Python 3",
   "language": "python",
   "name": "python3"
  },
  "language_info": {
   "codemirror_mode": {
    "name": "ipython",
    "version": 3
   },
   "file_extension": ".py",
   "mimetype": "text/x-python",
   "name": "python",
   "nbconvert_exporter": "python",
   "pygments_lexer": "ipython3",
   "version": "3.7.10"
  }
 },
 "nbformat": 4,
 "nbformat_minor": 5
}
