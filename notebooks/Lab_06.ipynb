{
 "cells": [
  {
   "cell_type": "markdown",
   "id": "ca47c2c5",
   "metadata": {},
   "source": [
    "# Caso: Análisis de CDR de una Empresa de Telecomunicaciones"
   ]
  },
  {
   "cell_type": "markdown",
   "id": "4d385c83",
   "metadata": {},
   "source": [
    "## Cargar archivos csv\n",
    "Utilizamos un Call Detail Record de ejemplo\n",
    "##### Clientes llamantes: 199\n",
    "##### Clientes llamados: 400\n",
    "##### Horizonte de tiempo: De Nov-2012 a Abr-2013 (6 meses)"
   ]
  },
  {
   "cell_type": "code",
   "execution_count": null,
   "id": "8a229ed8",
   "metadata": {},
   "outputs": [],
   "source": [
    "import pandas as pd\n",
    "import numpy as np \n",
    "import matplotlib.pyplot as plt\n",
    "import networkx as nx\n",
    "import time"
   ]
  },
  {
   "cell_type": "code",
   "execution_count": null,
   "id": "b375e39a",
   "metadata": {},
   "outputs": [],
   "source": [
    "ll = pd.read_csv('../data/llamadas2.csv')"
   ]
  },
  {
   "cell_type": "markdown",
   "id": "e081a180",
   "metadata": {},
   "source": [
    "Revisamos la información del DataFrame"
   ]
  },
  {
   "cell_type": "code",
   "execution_count": null,
   "id": "370572bc",
   "metadata": {},
   "outputs": [],
   "source": [
    "ll.info()"
   ]
  },
  {
   "cell_type": "code",
   "execution_count": null,
   "id": "8b8522ab",
   "metadata": {},
   "outputs": [],
   "source": [
    "ll.head()"
   ]
  },
  {
   "cell_type": "markdown",
   "id": "ea1094c3",
   "metadata": {},
   "source": [
    "Transformamos el DataFrame en un Grafo dirigido con pesos (cantidad de llamadas y duración)"
   ]
  },
  {
   "cell_type": "code",
   "execution_count": null,
   "id": "4f9357e7",
   "metadata": {},
   "outputs": [],
   "source": [
    "G = nx.from_pandas_edgelist(ll, source=\"fromuserid\", target=\"touserid\", edge_attr=[\"numbercalls\",\"secondscalls\"], create_using=nx.DiGraph())\n",
    "print(nx.info(G))"
   ]
  },
  {
   "cell_type": "markdown",
   "id": "f5ef22d5",
   "metadata": {},
   "source": [
    "Cargamos la lista de flags de baja"
   ]
  },
  {
   "cell_type": "code",
   "execution_count": null,
   "id": "acff1d88",
   "metadata": {},
   "outputs": [],
   "source": [
    "fl = pd.read_csv('../data/flagc.csv',index_col=\"fromuserid\")"
   ]
  },
  {
   "cell_type": "code",
   "execution_count": null,
   "id": "1487478e",
   "metadata": {},
   "outputs": [],
   "source": [
    "fl.info()"
   ]
  },
  {
   "cell_type": "markdown",
   "id": "c54c6057",
   "metadata": {},
   "source": [
    "Agregamos a cada nodo el atributo de fuga."
   ]
  },
  {
   "cell_type": "code",
   "execution_count": null,
   "id": "9bed52cf",
   "metadata": {},
   "outputs": [],
   "source": [
    "nx.set_node_attributes(G, dict(fl[\"flagc\"]), 'churn')"
   ]
  },
  {
   "cell_type": "markdown",
   "id": "188a3898",
   "metadata": {},
   "source": [
    "Visualización del grafo representando los estados de cada nodo a Abril 2013 ( 0 = No fuga; 1 = Fuga en Ene-Feb y 2 = Fuga en Mar-Abr)"
   ]
  },
  {
   "cell_type": "code",
   "execution_count": null,
   "id": "0746851b",
   "metadata": {},
   "outputs": [],
   "source": [
    "plt.figure(figsize=(80,45)) \n",
    "node_colors = ['b' if G.nodes[v]['churn'] == 1\n",
    "               else 'r' if G.nodes[v]['churn'] == 2\n",
    "               else 'g' for v in G]\n",
    "nx.draw_networkx(G, width=0.1, label=True, node_color=node_colors)\n",
    "plt.show()"
   ]
  },
  {
   "cell_type": "markdown",
   "id": "1917f6c0",
   "metadata": {},
   "source": [
    "Identificamos algunos nodos que podrían estar relacionados con los churners"
   ]
  },
  {
   "cell_type": "code",
   "execution_count": null,
   "id": "bd9dcf67",
   "metadata": {},
   "outputs": [],
   "source": [
    "list(G.successors(350020))"
   ]
  },
  {
   "cell_type": "code",
   "execution_count": null,
   "id": "cedf7068",
   "metadata": {},
   "outputs": [],
   "source": [
    "list(G.predecessors(350020))"
   ]
  },
  {
   "cell_type": "code",
   "execution_count": null,
   "id": "10ef86ff",
   "metadata": {},
   "outputs": [],
   "source": [
    "S = nx.bfs_tree(G,350020,depth_limit=2)\n",
    "plt.figure(figsize=(64,36))\n",
    "nx.draw_networkx(S, width=0.1)"
   ]
  },
  {
   "cell_type": "markdown",
   "id": "1c8c59e8",
   "metadata": {},
   "source": [
    "Extraemos un subgrafo para analizar la incidencia de la Fuga en Ene-Feb"
   ]
  },
  {
   "cell_type": "code",
   "execution_count": null,
   "id": "ba2671fc",
   "metadata": {},
   "outputs": [],
   "source": [
    "SG = nx.subgraph(G, [350002,350006,350007,350009,350008,350010,350011,350012,350014,350019,350020,350022,350023,350026,350029,350032,350033,350050,350051,350060,350107,350186])\n",
    "plt.figure(figsize=(16,9))\n",
    "spr = nx.spring_layout(SG, k=0.3)\n",
    "node_colors = ['b' if SG.nodes[v]['churn'] == 1\n",
    "               else 'g' for v in SG]\n",
    "nx.draw_networkx(SG, width=0.1, label=True, pos=spr, node_color=node_colors)"
   ]
  },
  {
   "cell_type": "markdown",
   "id": "858a4bf7",
   "metadata": {},
   "source": [
    "Ahora visualizamos el efecto de propagación en Mar-Abr"
   ]
  },
  {
   "cell_type": "code",
   "execution_count": null,
   "id": "858c4a6c",
   "metadata": {},
   "outputs": [],
   "source": [
    "plt.figure(figsize=(16,9))\n",
    "node_colors = ['b' if SG.nodes[v]['churn'] == 1\n",
    "               else 'r' if SG.nodes[v]['churn'] == 2\n",
    "               else 'g' for v in SG]\n",
    "nx.draw_networkx(SG, width=0.1, label=True, pos=spr, node_color=node_colors)"
   ]
  },
  {
   "cell_type": "markdown",
   "id": "7a0194dc",
   "metadata": {},
   "source": [
    "Elaborado por Luis Cajachahua bajo licencia MIT (2021)"
   ]
  }
 ],
 "metadata": {
  "kernelspec": {
   "display_name": "Python 3",
   "language": "python",
   "name": "python3"
  },
  "language_info": {
   "codemirror_mode": {
    "name": "ipython",
    "version": 3
   },
   "file_extension": ".py",
   "mimetype": "text/x-python",
   "name": "python",
   "nbconvert_exporter": "python",
   "pygments_lexer": "ipython3",
   "version": "3.8.8"
  }
 },
 "nbformat": 4,
 "nbformat_minor": 5
}
