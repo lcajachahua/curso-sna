{
 "cells": [
  {
   "cell_type": "markdown",
   "id": "hungry-institute",
   "metadata": {},
   "source": [
    "# Caso: Análisis de Fuga de una Empresa de Telecomunicaciones"
   ]
  },
  {
   "cell_type": "markdown",
   "id": "premium-pottery",
   "metadata": {},
   "source": [
    "## Cargar archivos csv\n",
    "Utilizamos un Call Detail Record de ejemplo\n",
    "##### Clientes llamantes: 199\n",
    "##### Clientes llamados: 400\n",
    "##### Horizonte de tiempo: De Nov-2012 a Abr-2013 (6 meses)"
   ]
  },
  {
   "cell_type": "code",
   "execution_count": null,
   "id": "formal-polish",
   "metadata": {},
   "outputs": [],
   "source": [
    "import pandas as pd\n",
    "import numpy as np \n",
    "import matplotlib.pyplot as plt\n",
    "import networkx as nx\n",
    "import time"
   ]
  },
  {
   "cell_type": "code",
   "execution_count": null,
   "id": "swiss-cyprus",
   "metadata": {},
   "outputs": [],
   "source": [
    "ll = pd.read_csv('../data/llamadas2.csv')"
   ]
  },
  {
   "cell_type": "markdown",
   "id": "modern-dominican",
   "metadata": {},
   "source": [
    "Revisamos la información del DataFrame"
   ]
  },
  {
   "cell_type": "code",
   "execution_count": null,
   "id": "useful-cable",
   "metadata": {},
   "outputs": [],
   "source": [
    "ll.info()"
   ]
  },
  {
   "cell_type": "code",
   "execution_count": null,
   "id": "floral-metallic",
   "metadata": {},
   "outputs": [],
   "source": [
    "ll.head()"
   ]
  },
  {
   "cell_type": "markdown",
   "id": "mental-hollow",
   "metadata": {},
   "source": [
    "Transformamos el DataFrame en un Grafo dirigido con pesos (cantidad de llamadas y duración)"
   ]
  },
  {
   "cell_type": "code",
   "execution_count": null,
   "id": "elementary-doubt",
   "metadata": {},
   "outputs": [],
   "source": [
    "G = nx.from_pandas_edgelist(ll, source=\"fromuserid\", target=\"touserid\", edge_attr=[\"numbercalls\",\"secondscalls\"], create_using=nx.DiGraph())\n",
    "print(nx.info(G))"
   ]
  },
  {
   "cell_type": "markdown",
   "id": "faced-wilderness",
   "metadata": {},
   "source": [
    "Cargamos la lista de flags de baja"
   ]
  },
  {
   "cell_type": "code",
   "execution_count": null,
   "id": "congressional-reaction",
   "metadata": {},
   "outputs": [],
   "source": [
    "fl = pd.read_csv('../data/flagc.csv',index_col=\"fromuserid\")"
   ]
  },
  {
   "cell_type": "code",
   "execution_count": null,
   "id": "statewide-allowance",
   "metadata": {},
   "outputs": [],
   "source": [
    "fl.head()"
   ]
  },
  {
   "cell_type": "code",
   "execution_count": null,
   "id": "atlantic-advocacy",
   "metadata": {},
   "outputs": [],
   "source": [
    "fl.info()"
   ]
  },
  {
   "cell_type": "markdown",
   "id": "future-personal",
   "metadata": {},
   "source": [
    "Agregamos a cada nodo el atributo de fuga."
   ]
  },
  {
   "cell_type": "code",
   "execution_count": null,
   "id": "arbitrary-stopping",
   "metadata": {},
   "outputs": [],
   "source": [
    "nx.set_node_attributes(G, dict(fl[\"flagc\"]), 'churn')\n",
    "nx.set_node_attributes(G, dict(fl[\"baj1\"]), 'baj1')\n",
    "nx.set_node_attributes(G, dict(fl[\"baj2\"]), 'baj2')\n",
    "nx.set_node_attributes(G, dict(fl[\"baj3\"]), 'baj3')"
   ]
  },
  {
   "cell_type": "markdown",
   "id": "durable-baghdad",
   "metadata": {},
   "source": [
    "Visualización del grafo representando los estados de cada nodo a Abril 2013 ( 0 = No fuga; 1 = Fuga en Ene-Feb y 2 = Fuga en Mar-Abr)"
   ]
  },
  {
   "cell_type": "code",
   "execution_count": null,
   "id": "religious-motivation",
   "metadata": {},
   "outputs": [],
   "source": [
    "plt.figure(figsize=(80,45)) \n",
    "node_colors = ['b' if G.nodes[v]['churn'] == 1\n",
    "               else 'r' if G.nodes[v]['churn'] == 2\n",
    "               else 'g' for v in G]\n",
    "nx.draw_networkx(G, width=0.1, label=True, node_color=node_colors)\n",
    "plt.show()"
   ]
  },
  {
   "cell_type": "markdown",
   "id": "powered-shade",
   "metadata": {},
   "source": [
    "Identificamos algunos nodos que podrían estar relacionados con los churners"
   ]
  },
  {
   "cell_type": "code",
   "execution_count": null,
   "id": "integral-degree",
   "metadata": {},
   "outputs": [],
   "source": [
    "list(G.successors(350007))"
   ]
  },
  {
   "cell_type": "code",
   "execution_count": null,
   "id": "planned-tackle",
   "metadata": {},
   "outputs": [],
   "source": [
    "list(G.predecessors(350007))"
   ]
  },
  {
   "cell_type": "markdown",
   "id": "ignored-lucas",
   "metadata": {},
   "source": [
    "## Extraer un Subgrafo tipo Árbol con bfs_tree"
   ]
  },
  {
   "cell_type": "code",
   "execution_count": null,
   "id": "sexual-discretion",
   "metadata": {},
   "outputs": [],
   "source": [
    "S = nx.bfs_tree(G,350007,depth_limit=2)\n",
    "plt.figure(figsize=(64,36))\n",
    "nx.draw_networkx(S, width=0.1)"
   ]
  },
  {
   "cell_type": "markdown",
   "id": "intimate-personal",
   "metadata": {},
   "source": [
    "Extraemos un subgrafo para analizar la incidencia de la Fuga en Ene-Feb"
   ]
  },
  {
   "cell_type": "code",
   "execution_count": null,
   "id": "banner-collaboration",
   "metadata": {},
   "outputs": [],
   "source": [
    "SG = nx.subgraph(G, [350002,350006,350007,350009,350008,350010,350011,350012,350014,350019,350020,350022,350023,350026,350029,350032,350033,350050,350051,350060,350107,350186])\n",
    "plt.figure(figsize=(16,9))\n",
    "spr = nx.spring_layout(SG, k=0.3)\n",
    "node_colors = ['b' if SG.nodes[v]['churn'] == 1\n",
    "               else 'g' for v in SG]\n",
    "nx.draw_networkx(SG, width=0.1, label=True, pos=spr, node_color=node_colors)"
   ]
  },
  {
   "cell_type": "markdown",
   "id": "executed-reunion",
   "metadata": {},
   "source": [
    "Ahora visualizamos el efecto de propagación en Mar-Abr"
   ]
  },
  {
   "cell_type": "code",
   "execution_count": null,
   "id": "compliant-contest",
   "metadata": {},
   "outputs": [],
   "source": [
    "plt.figure(figsize=(16,9))\n",
    "node_colors = ['b' if SG.nodes[v]['churn'] == 1\n",
    "               else 'r' if SG.nodes[v]['churn'] == 2\n",
    "               else 'g' for v in SG]\n",
    "nx.draw_networkx(SG, width=0.1, label=True, pos=spr, node_color=node_colors)"
   ]
  },
  {
   "cell_type": "markdown",
   "id": "great-railway",
   "metadata": {},
   "source": [
    "## Extraer un Subgrafo tipo Ego"
   ]
  },
  {
   "cell_type": "code",
   "execution_count": null,
   "id": "spanish-basketball",
   "metadata": {},
   "outputs": [],
   "source": [
    "E1=nx.ego_graph(G.to_undirected(),350001)\n",
    "E2=nx.ego_graph(G.to_undirected(),350010)\n",
    "E=nx.compose(E1,E2)\n",
    "plt.figure(figsize=(16,9))\n",
    "nx.draw_networkx(E, width=0.1)"
   ]
  },
  {
   "cell_type": "code",
   "execution_count": null,
   "id": "behind-wallace",
   "metadata": {},
   "outputs": [],
   "source": [
    "plt.figure(figsize=(32,18))\n",
    "spr = nx.spring_layout(E, k=0.3)\n",
    "node_colors = ['b' if E.nodes[v]['churn'] == 1\n",
    "               else 'g' for v in E]\n",
    "nx.draw_networkx(E, width=0.1, label=True, pos=spr, node_color=node_colors)"
   ]
  },
  {
   "cell_type": "code",
   "execution_count": null,
   "id": "outer-tribute",
   "metadata": {},
   "outputs": [],
   "source": [
    "plt.figure(figsize=(32,18))\n",
    "node_colors = ['b' if E.nodes[v]['churn'] == 1\n",
    "               else 'r' if E.nodes[v]['churn'] == 2\n",
    "               else 'g' for v in E]\n",
    "nx.draw_networkx(E, width=0.1, label=True, pos=spr, node_color=node_colors)"
   ]
  },
  {
   "cell_type": "markdown",
   "id": "administrative-marathon",
   "metadata": {},
   "source": [
    "## Análisis de Propagación del Churn\n",
    "Generamos la función de cálculo de influencia promedio de los churners sobre los otros clientes"
   ]
  },
  {
   "cell_type": "code",
   "execution_count": null,
   "id": "acting-enough",
   "metadata": {},
   "outputs": [],
   "source": [
    "def calculate_avg_score(G, node_id):\n",
    "    score_sum = 0\n",
    "    n_neighbors = 0\n",
    "    for neighbor_id in G[node_id]:\n",
    "        score_sum += G.nodes[neighbor_id]['baj1']\n",
    "        n_neighbors += 1\n",
    "    return score_sum / n_neighbors"
   ]
  },
  {
   "cell_type": "code",
   "execution_count": null,
   "id": "fiscal-inspiration",
   "metadata": {},
   "outputs": [],
   "source": [
    "calculate_avg_score(E, 350013)"
   ]
  },
  {
   "cell_type": "code",
   "execution_count": null,
   "id": "worthy-france",
   "metadata": {},
   "outputs": [],
   "source": [
    "calculate_avg_score(E, 350025)"
   ]
  },
  {
   "cell_type": "code",
   "execution_count": null,
   "id": "grand-ukraine",
   "metadata": {},
   "outputs": [],
   "source": [
    "calculate_avg_score(E, 350114)"
   ]
  },
  {
   "cell_type": "markdown",
   "id": "julian-christmas",
   "metadata": {},
   "source": [
    "Creamos una función de Propagación para hacer un cálculo iterativo que nos muestre las probabilidades de Churn"
   ]
  },
  {
   "cell_type": "code",
   "execution_count": null,
   "id": "another-doctor",
   "metadata": {},
   "outputs": [],
   "source": [
    "def propagate(G):\n",
    "    next_scores = {}\n",
    "    for node_id in G.nodes():\n",
    "        if G.nodes[node_id]['churn']==1:\n",
    "            next_scores[node_id] = G.nodes[node_id]['baj1']\n",
    "        else:\n",
    "            next_scores[node_id] = calculate_avg_score(G, node_id)\n",
    "    for node_id in next_scores:\n",
    "        G.nodes[node_id]['baj1'] = next_scores[node_id]"
   ]
  },
  {
   "cell_type": "code",
   "execution_count": null,
   "id": "agreed-prisoner",
   "metadata": {},
   "outputs": [],
   "source": [
    "propagate(E)"
   ]
  },
  {
   "cell_type": "markdown",
   "id": "geographic-employment",
   "metadata": {},
   "source": [
    "Ejecutamos hasta la convergencia"
   ]
  },
  {
   "cell_type": "code",
   "execution_count": null,
   "id": "complimentary-committee",
   "metadata": {},
   "outputs": [],
   "source": [
    "n_steps = 5\n",
    "for i in range(n_steps):\n",
    "    propagate(E)\n",
    "    print(\"=== After {} steps ===\".format(i+1))\n",
    "    print(\"Nodo 350025 = {}\".format(E.nodes[350025]['baj1']))\n",
    "    print(\"Nodo 350114 = {}\".format(E.nodes[350114]['baj1']))\n",
    "    print(\"Nodo 350005 = {}\".format(E.nodes[350005]['baj1']))\n",
    "    print(\"Nodo 350146 = {}\".format(E.nodes[350146]['baj1']))"
   ]
  },
  {
   "cell_type": "markdown",
   "id": "incorrect-synthesis",
   "metadata": {},
   "source": [
    "Podemos extender este resultado a un listado de clientes en particular"
   ]
  },
  {
   "cell_type": "markdown",
   "id": "appreciated-letter",
   "metadata": {},
   "source": [
    "Elaborado por Luis Cajachahua bajo licencia MIT (2021)"
   ]
  }
 ],
 "metadata": {
  "kernelspec": {
   "display_name": "Python 3",
   "language": "python",
   "name": "python3"
  },
  "language_info": {
   "codemirror_mode": {
    "name": "ipython",
    "version": 3
   },
   "file_extension": ".py",
   "mimetype": "text/x-python",
   "name": "python",
   "nbconvert_exporter": "python",
   "pygments_lexer": "ipython3",
   "version": "3.7.8"
  }
 },
 "nbformat": 4,
 "nbformat_minor": 5
}
