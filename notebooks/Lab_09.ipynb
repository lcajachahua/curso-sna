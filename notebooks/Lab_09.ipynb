{
 "cells": [
  {
   "cell_type": "markdown",
   "metadata": {},
   "source": [
    "# Muestreando Grafos"
   ]
  },
  {
   "cell_type": "markdown",
   "metadata": {},
   "source": [
    "## Cargar archivos csv\n",
    "Utilizamos la base de datos de Marvel (https://www.kaggle.com/csanhueza/the-marvel-universe-social-network)"
   ]
  },
  {
   "cell_type": "code",
   "execution_count": null,
   "metadata": {},
   "outputs": [],
   "source": [
    "import pandas as pd\n",
    "import numpy as np \n",
    "import matplotlib.pyplot as plt\n",
    "import networkx as nx\n",
    "import time"
   ]
  },
  {
   "cell_type": "code",
   "execution_count": null,
   "metadata": {},
   "outputs": [],
   "source": [
    "h = pd.read_csv('../data/hero-network.csv')"
   ]
  },
  {
   "cell_type": "markdown",
   "metadata": {},
   "source": [
    "Revisamos la información del DataFrame"
   ]
  },
  {
   "cell_type": "code",
   "execution_count": null,
   "metadata": {},
   "outputs": [],
   "source": [
    "h.info()"
   ]
  },
  {
   "cell_type": "markdown",
   "metadata": {},
   "source": [
    "Transformamos el DataFrame en un Grafo Dirigido"
   ]
  },
  {
   "cell_type": "code",
   "execution_count": null,
   "metadata": {},
   "outputs": [],
   "source": [
    "G = nx.from_pandas_edgelist(h, source = \"hero1\", target = \"hero2\", create_using=nx.DiGraph())\n",
    "print(nx.info(G))"
   ]
  },
  {
   "cell_type": "markdown",
   "metadata": {},
   "source": [
    "Crear la función top_nodes que mostrará los valores más altos de un diccionario"
   ]
  },
  {
   "cell_type": "code",
   "execution_count": null,
   "metadata": {},
   "outputs": [],
   "source": [
    "def get_top_nodes(cdict, num=5):\n",
    "    top_nodes ={}\n",
    "    for i in range(num):\n",
    "        top_nodes =dict(\n",
    "            sorted(cdict.items(), key=lambda x: x[1], reverse=True)[:num]\n",
    "            )\n",
    "        return top_nodes"
   ]
  },
  {
   "cell_type": "markdown",
   "metadata": {},
   "source": [
    "## Muestreo de Grafos\n",
    "#### Método de Nodos Aleatorio"
   ]
  },
  {
   "cell_type": "code",
   "execution_count": null,
   "metadata": {},
   "outputs": [],
   "source": [
    "import random\n",
    "sampled_nodes = random.sample(G.nodes, 700)\n",
    "SG = G.subgraph(sampled_nodes)\n",
    "print(nx.info(SG))"
   ]
  },
  {
   "cell_type": "markdown",
   "metadata": {},
   "source": [
    "Nos quedamos con el componente más grande"
   ]
  },
  {
   "cell_type": "code",
   "execution_count": null,
   "metadata": {},
   "outputs": [],
   "source": [
    "SA=SG\n",
    "SC = max(nx.strongly_connected_components(SA), key=len)\n",
    "SG = SA.subgraph(SC)\n",
    "print(nx.info(SG))"
   ]
  },
  {
   "cell_type": "markdown",
   "metadata": {},
   "source": [
    "## Librería Graph_Sampling \n",
    "Puede instalarse desde: https://github.com/Ashish7129/Graph_Sampling\n",
    "#### Método Snowball"
   ]
  },
  {
   "cell_type": "code",
   "execution_count": null,
   "metadata": {},
   "outputs": [],
   "source": [
    "import Graph_Sampling \n",
    "objects = Graph_Sampling.Snowball()\n",
    "SN = objects.snowball(G, 200, 10)\n",
    "print(nx.info(SN))"
   ]
  },
  {
   "cell_type": "markdown",
   "metadata": {},
   "source": [
    "#### Método ForestFire"
   ]
  },
  {
   "cell_type": "code",
   "execution_count": null,
   "metadata": {},
   "outputs": [],
   "source": [
    "objectf = Graph_Sampling.ForestFire()\n",
    "SF = objectf.forestfire(G, 200)\n",
    "print(nx.info(SF))"
   ]
  },
  {
   "cell_type": "markdown",
   "metadata": {},
   "source": [
    "## Métricas de Nodo\n",
    "#### Grado"
   ]
  },
  {
   "cell_type": "markdown",
   "metadata": {},
   "source": [
    "Guardar el grado de cada nodo en un diccionario"
   ]
  },
  {
   "cell_type": "code",
   "execution_count": null,
   "metadata": {},
   "outputs": [],
   "source": [
    "gdeg=SG.degree()"
   ]
  },
  {
   "cell_type": "code",
   "execution_count": null,
   "metadata": {},
   "outputs": [],
   "source": [
    "get_top_nodes(dict(gdeg))"
   ]
  },
  {
   "cell_type": "markdown",
   "metadata": {},
   "source": [
    "#### In-Degree"
   ]
  },
  {
   "cell_type": "code",
   "execution_count": null,
   "metadata": {},
   "outputs": [],
   "source": [
    "indeg=SG.in_degree()\n",
    "get_top_nodes(dict(indeg))"
   ]
  },
  {
   "cell_type": "markdown",
   "metadata": {},
   "source": [
    "#### Out-Degree"
   ]
  },
  {
   "cell_type": "code",
   "execution_count": null,
   "metadata": {},
   "outputs": [],
   "source": [
    "outdeg=SG.out_degree()\n",
    "get_top_nodes(dict(outdeg))"
   ]
  },
  {
   "cell_type": "markdown",
   "metadata": {},
   "source": [
    "#### Degree Centrality"
   ]
  },
  {
   "cell_type": "code",
   "execution_count": null,
   "metadata": {},
   "outputs": [],
   "source": [
    "degree_centrality =nx.degree_centrality(SG)\n",
    "nx.set_node_attributes(SG,degree_centrality, 'dc')\n",
    "get_top_nodes(degree_centrality)"
   ]
  },
  {
   "cell_type": "code",
   "execution_count": null,
   "metadata": {},
   "outputs": [],
   "source": [
    "plt.figure(figsize=(32,18)) \n",
    "pos=nx.spring_layout(SG)\n",
    "nx.draw_networkx(SG, width=0.1, node_size=[5000*v for v in nx.get_node_attributes(SG, 'dc').values()], pos=pos)"
   ]
  },
  {
   "cell_type": "markdown",
   "metadata": {},
   "source": [
    "#### Betweenness"
   ]
  },
  {
   "cell_type": "code",
   "execution_count": null,
   "metadata": {},
   "outputs": [],
   "source": [
    "betweenness_centrality = nx.betweenness_centrality(SG)\n",
    "nx.set_node_attributes(SG,betweenness_centrality, 'bc')\n",
    "get_top_nodes(betweenness_centrality)"
   ]
  },
  {
   "cell_type": "code",
   "execution_count": null,
   "metadata": {},
   "outputs": [],
   "source": [
    "plt.figure(figsize=(32,18)) \n",
    "nx.draw_networkx(SG, width=0.1, node_size=[10000 * v for v in nx.get_node_attributes(SG, 'bc').values()], pos=pos)"
   ]
  },
  {
   "cell_type": "markdown",
   "metadata": {},
   "source": [
    "#### Closeness"
   ]
  },
  {
   "cell_type": "code",
   "execution_count": null,
   "metadata": {},
   "outputs": [],
   "source": [
    "closeness_centrality =nx.closeness_centrality(SG)\n",
    "nx.set_node_attributes(SG,closeness_centrality, 'cc')\n",
    "get_top_nodes(closeness_centrality)"
   ]
  },
  {
   "cell_type": "code",
   "execution_count": null,
   "metadata": {},
   "outputs": [],
   "source": [
    "plt.figure(figsize=(32,18)) \n",
    "nx.draw_networkx(SG, width=0.1, node_size=[1000 * v for v in nx.get_node_attributes(SG, 'cc').values()], pos=pos)"
   ]
  },
  {
   "cell_type": "markdown",
   "metadata": {},
   "source": [
    "#### Eigenvector Centrality"
   ]
  },
  {
   "cell_type": "code",
   "execution_count": null,
   "metadata": {},
   "outputs": [],
   "source": [
    "eigenvector_centrality = nx.eigenvector_centrality(SG)\n",
    "nx.set_node_attributes(SG, eigenvector_centrality,'ec')\n",
    "get_top_nodes(eigenvector_centrality)"
   ]
  },
  {
   "cell_type": "code",
   "execution_count": null,
   "metadata": {},
   "outputs": [],
   "source": [
    "plt.figure(figsize=(32,18)) \n",
    "nx.draw_networkx(SG, width=0.1, node_size=[10000 * v for v in nx.get_node_attributes(SG, 'ec').values()], pos=pos)"
   ]
  },
  {
   "cell_type": "markdown",
   "metadata": {},
   "source": [
    "#### PageRank Centrality"
   ]
  },
  {
   "cell_type": "code",
   "execution_count": null,
   "metadata": {},
   "outputs": [],
   "source": [
    "pagerank_centrality =nx.pagerank(SG)\n",
    "nx.set_node_attributes(SG, pagerank_centrality, 'pr')\n",
    "get_top_nodes(pagerank_centrality)"
   ]
  },
  {
   "cell_type": "code",
   "execution_count": null,
   "metadata": {},
   "outputs": [],
   "source": [
    "plt.figure(figsize=(32,18)) \n",
    "nx.draw_networkx(SG, width=0.1, node_size=[100000 * v for v in nx.get_node_attributes(SG, 'pr').values()], pos=pos)"
   ]
  },
  {
   "cell_type": "markdown",
   "metadata": {},
   "source": [
    "#### Densidad"
   ]
  },
  {
   "cell_type": "code",
   "execution_count": null,
   "metadata": {},
   "outputs": [],
   "source": [
    "nx.density(G)"
   ]
  },
  {
   "cell_type": "markdown",
   "metadata": {},
   "source": [
    "Elaborado por Luis Cajachahua bajo licencia MIT (2021)"
   ]
  }
 ],
 "metadata": {
  "kernelspec": {
   "display_name": "Python 3",
   "language": "python",
   "name": "python3"
  },
  "language_info": {
   "codemirror_mode": {
    "name": "ipython",
    "version": 3
   },
   "file_extension": ".py",
   "mimetype": "text/x-python",
   "name": "python",
   "nbconvert_exporter": "python",
   "pygments_lexer": "ipython3",
   "version": "3.7.6"
  }
 },
 "nbformat": 4,
 "nbformat_minor": 5
}
