{
 "cells": [
  {
   "cell_type": "markdown",
   "id": "6ea82580",
   "metadata": {},
   "source": [
    "# Trabajando con Datos Externos"
   ]
  },
  {
   "cell_type": "markdown",
   "id": "66e1bfcd",
   "metadata": {},
   "source": [
    "## Cargar archivos csv\n",
    "Utilizamos la base de datos de Marvel (https://www.kaggle.com/csanhueza/the-marvel-universe-social-network)"
   ]
  },
  {
   "cell_type": "code",
   "execution_count": null,
   "id": "d99f9e7c-d375-4062-8599-8d2b0aa60f6d",
   "metadata": {},
   "outputs": [],
   "source": [
    "import pandas as pd\n",
    "import numpy as np \n",
    "import matplotlib.pyplot as plt\n",
    "import networkx as nx"
   ]
  },
  {
   "cell_type": "code",
   "execution_count": 1,
   "id": "bdbb4837",
   "metadata": {},
   "outputs": [],
   "source": [
    "h = pd.read_csv('../data/hero-network.csv')"
   ]
  },
  {
   "cell_type": "markdown",
   "id": "bc99accf",
   "metadata": {},
   "source": [
    "Revisamos la información del Grafo"
   ]
  },
  {
   "cell_type": "code",
   "execution_count": 2,
   "id": "d84c740c",
   "metadata": {},
   "outputs": [],
   "source": [
    "h.info()"
   ]
  },
  {
   "cell_type": "markdown",
   "id": "acb675f9",
   "metadata": {},
   "source": [
    "Transformamos el DataFrame en un Grafo"
   ]
  },
  {
   "cell_type": "code",
   "execution_count": 3,
   "id": "d4ff3b02",
   "metadata": {},
   "outputs": [
    {
     "name": "stdout",
     "output_type": "stream",
     "text": [
      "Name: Zachary's Karate Club\n",
      "Type: Graph\n",
      "Number of nodes: 34\n",
      "Number of edges: 78\n",
      "Average degree:   4.5882\n"
     ]
    }
   ],
   "source": [
    "G = nx.from_pandas_edgelist(h, source = \"hero1\", target = \"hero2\")\n",
    "print(nx.info(G))"
   ]
  },
  {
   "cell_type": "markdown",
   "id": "131ae1af",
   "metadata": {},
   "source": [
    "Volvemos a generar el Grafo, ahora Dirigido"
   ]
  },
  {
   "cell_type": "code",
   "execution_count": 4,
   "id": "13609238",
   "metadata": {},
   "outputs": [
    {
     "name": "stdout",
     "output_type": "stream",
     "text": [
      "Node 0 has the following properties:\n",
      "Degree: 16\n",
      "Neighbors: 1 2 3 4 5 6 7 8 10 11 12 13 17 19 21 31\n"
     ]
    }
   ],
   "source": [
    "G = nx.from_pandas_edgelist(h, source = \"hero1\", target = \"hero2\", create_using=nx.DiGraph())\n",
    "print(nx.info(G))"
   ]
  },
  {
   "cell_type": "markdown",
   "id": "2f244847-b9e0-44eb-9f69-a2924edec5e4",
   "metadata": {},
   "source": [
    "Crear la función top_nodes que mostrará los valores más altos de un diccionario"
   ]
  },
  {
   "cell_type": "code",
   "execution_count": 16,
   "id": "0e606926-a9bb-4151-82ec-e0ebf06ce403",
   "metadata": {},
   "outputs": [],
   "source": [
    "def get_top_nodes(cdict, num=5):\n",
    "    top_nodes ={}\n",
    "    for i in range(num):\n",
    "        top_nodes =dict(\n",
    "            sorted(cdict.items(), key=lambda x: x[1], reverse=True)[:num]\n",
    "            )\n",
    "        return top_nodes"
   ]
  },
  {
   "cell_type": "markdown",
   "id": "401d305d",
   "metadata": {},
   "source": [
    "#### Grado"
   ]
  },
  {
   "cell_type": "markdown",
   "id": "aa9d4b48",
   "metadata": {},
   "source": [
    "Guardar el grado de cada nodo en un diccionario"
   ]
  },
  {
   "cell_type": "code",
   "execution_count": 8,
   "id": "c8e0cfb8",
   "metadata": {},
   "outputs": [],
   "source": [
    "gdeg=G.degree()"
   ]
  },
  {
   "cell_type": "code",
   "execution_count": 17,
   "id": "5c77beb4-70b8-4fc1-93a7-76e2d8c6ea4c",
   "metadata": {},
   "outputs": [
    {
     "data": {
      "text/plain": [
       "{33: 17, 0: 16, 32: 12, 2: 10, 1: 9}"
      ]
     },
     "execution_count": 17,
     "metadata": {},
     "output_type": "execute_result"
    }
   ],
   "source": [
    "get_top_nodes(dict(gdeg))"
   ]
  },
  {
   "cell_type": "code",
   "execution_count": null,
   "id": "2727c1b2-385c-4651-ab4d-bc20e5644725",
   "metadata": {},
   "outputs": [],
   "source": []
  },
  {
   "cell_type": "markdown",
   "id": "d7f81f09-d913-43f6-8e30-ad94d0954bfc",
   "metadata": {},
   "source": [
    "#### In-Degree"
   ]
  },
  {
   "cell_type": "code",
   "execution_count": null,
   "id": "fb8e8159-f560-4259-9acf-42d45b42497f",
   "metadata": {},
   "outputs": [],
   "source": [
    "indeg=G.in_degree()\n",
    "get_top_nodes(dict(indeg))"
   ]
  },
  {
   "cell_type": "markdown",
   "id": "5b28da11-51f5-408d-bcf6-6ebe23ae64aa",
   "metadata": {},
   "source": [
    "#### Out-Degree"
   ]
  },
  {
   "cell_type": "code",
   "execution_count": null,
   "id": "9d4b1998-6f71-451f-a161-55324978386a",
   "metadata": {},
   "outputs": [],
   "source": [
    "outdeg=G.out_degree()\n",
    "get_top_nodes(dict(outdeg))"
   ]
  },
  {
   "cell_type": "markdown",
   "id": "d8cacb6e",
   "metadata": {},
   "source": [
    "Visualizar el Grafo utilizando como tamaño del nodo la métrica de grado"
   ]
  },
  {
   "cell_type": "code",
   "execution_count": 13,
   "id": "32f00b4a",
   "metadata": {},
   "outputs": [
    {
     "data": {
      "text/plain": [
       "True"
      ]
     },
     "execution_count": 13,
     "metadata": {},
     "output_type": "execute_result"
    }
   ],
   "source": [
    "nx.draw_networkx(G, node_size=[200*val for(node,val)in gdeg])\n",
    "#limits =plt.axis('off')\n",
    "plt.show()"
   ]
  },
  {
   "cell_type": "markdown",
   "id": "3e612208",
   "metadata": {},
   "source": [
    "#### Degree Centrality"
   ]
  },
  {
   "cell_type": "code",
   "execution_count": 11,
   "id": "5ac68d87",
   "metadata": {},
   "outputs": [],
   "source": [
    "degree_centrality =nx.degree_centrality(G)\n",
    "nx.set_node_attributes(G,degree_centrality, 'dc')\n",
    "get_top_nodes(degree_centrality)"
   ]
  },
  {
   "cell_type": "code",
   "execution_count": 15,
   "id": "37091689",
   "metadata": {},
   "outputs": [],
   "source": [
    "nx.draw_networkx(G, node_color=colors, node_size=[3000 * v for v in nx.get_node_attributes(G, 'dc').values()])"
   ]
  },
  {
   "cell_type": "markdown",
   "id": "02717ff9",
   "metadata": {},
   "source": [
    "#### Betweenness"
   ]
  },
  {
   "cell_type": "code",
   "execution_count": null,
   "id": "47a23039",
   "metadata": {},
   "outputs": [],
   "source": [
    "betweenness_centrality = nx.betweenness_centrality(G)\n",
    "nx.set_node_attributes(G,betweenness_centrality, 'bc')\n",
    "get_top_nodes(betweenness_centrality)"
   ]
  },
  {
   "cell_type": "code",
   "execution_count": null,
   "id": "c89fa126-55f6-41ef-bc7d-ec28bdd1c2ef",
   "metadata": {},
   "outputs": [],
   "source": [
    "nx.draw_networkx(G, node_size=[4000 * v for v in nx.get_node_attributes(G, 'bc').values()])"
   ]
  },
  {
   "cell_type": "markdown",
   "id": "0b0ac6a0",
   "metadata": {},
   "source": [
    "#### Closeness"
   ]
  },
  {
   "cell_type": "code",
   "execution_count": 20,
   "id": "66ecd769",
   "metadata": {},
   "outputs": [
    {
     "data": {
      "text/plain": [
       "{0: 0.5689655172413793,\n",
       " 2: 0.559322033898305,\n",
       " 33: 0.55,\n",
       " 31: 0.5409836065573771,\n",
       " 8: 0.515625}"
      ]
     },
     "execution_count": 20,
     "metadata": {},
     "output_type": "execute_result"
    }
   ],
   "source": [
    "closeness_centrality =nx.closeness_centrality(G)\n",
    "nx.set_node_attributes(G,closeness_centrality, 'cc')\n",
    "get_top_nodes(closeness_centrality)"
   ]
  },
  {
   "cell_type": "code",
   "execution_count": null,
   "id": "e29becbb-bdfa-4d2f-be8d-98f002186a8b",
   "metadata": {},
   "outputs": [],
   "source": [
    "pos =nx.spring_layout(G)\n",
    "ec =nx.draw_networkx_edges(G, pos=pos)\n",
    "nc =nx.draw_networkx_nodes(G, pos=pos,\n",
    "                           node_color=[v for v in nx.get_node_attributes(G, 'cc').values()],\n",
    "                           node_size=[1200 * v for v in nx.get_node_attributes(G, 'cc').values()])\n",
    "lb =nx.draw_networkx_labels(G,pos =pos)"
   ]
  },
  {
   "cell_type": "markdown",
   "id": "f6c5f66c-577d-4b8a-ac1d-282a8adb2262",
   "metadata": {},
   "source": [
    "#### Eigenvector Centrality"
   ]
  },
  {
   "cell_type": "code",
   "execution_count": 22,
   "id": "da83306d-1b19-4ad7-a8ff-430649d46860",
   "metadata": {},
   "outputs": [
    {
     "data": {
      "text/plain": [
       "{33: 0.373371213013235,\n",
       " 0: 0.3554834941851943,\n",
       " 2: 0.31718938996844476,\n",
       " 32: 0.3086510477336959,\n",
       " 1: 0.2659538704545025}"
      ]
     },
     "execution_count": 22,
     "metadata": {},
     "output_type": "execute_result"
    }
   ],
   "source": [
    "eigenvector_centrality = nx.eigenvector_centrality(G)\n",
    "nx.set_node_attributes(G, eigenvector_centrality,'ec')\n",
    "get_top_nodes(eigenvector_centrality)"
   ]
  },
  {
   "cell_type": "code",
   "execution_count": null,
   "id": "11bfd38d-55da-47f5-83d5-1d5c7b7f495a",
   "metadata": {},
   "outputs": [],
   "source": [
    "nx.draw_networkx(G, node_size=[2400 * v for v in nx.get_node_attributes(K, 'ec').values()])"
   ]
  },
  {
   "cell_type": "markdown",
   "id": "3f4b70b8-324b-4e47-83a4-dbeb3f545ebd",
   "metadata": {},
   "source": [
    "#### PageRank Centrality"
   ]
  },
  {
   "cell_type": "code",
   "execution_count": 24,
   "id": "6f661aa6-a2c3-47c2-b78b-b3fd28e1ce53",
   "metadata": {},
   "outputs": [
    {
     "data": {
      "text/plain": [
       "{33: 0.1009179167487121,\n",
       " 0: 0.09700181758983709,\n",
       " 32: 0.07169213006588289,\n",
       " 2: 0.057078423047636745,\n",
       " 1: 0.05287839103742701}"
      ]
     },
     "execution_count": 24,
     "metadata": {},
     "output_type": "execute_result"
    }
   ],
   "source": [
    "pagerank_centrality =nx.pagerank(G)\n",
    "nx.set_node_attributes(G, pagerank_centrality, 'pr')\n",
    "get_top_nodes(pagerank_centrality)"
   ]
  },
  {
   "cell_type": "markdown",
   "id": "dcf04035-023b-4d7d-9790-04fb0d433435",
   "metadata": {},
   "source": [
    "nx.draw_networkx(G, node_size=[5000 * v for v in nx.get_node_attributes(K, 'pr').values()], pos=pos)"
   ]
  },
  {
   "cell_type": "markdown",
   "id": "a282492f-fa9d-4208-bf37-c3558762e33c",
   "metadata": {},
   "source": [
    "## Métricas de Grafo"
   ]
  },
  {
   "cell_type": "markdown",
   "id": "73ef441a-1fd4-4976-82c1-154e25dac297",
   "metadata": {},
   "source": [
    "#### All Shortest Path"
   ]
  },
  {
   "cell_type": "code",
   "execution_count": 36,
   "id": "d171d45e-20a1-4d0b-b85d-c9c2155d94b2",
   "metadata": {},
   "outputs": [
    {
     "data": {
      "text/plain": [
       "[[0, 4]]"
      ]
     },
     "execution_count": 36,
     "metadata": {},
     "output_type": "execute_result"
    }
   ],
   "source": [
    "list(nx.all_shortest_paths(G,0,4))"
   ]
  },
  {
   "cell_type": "code",
   "execution_count": 46,
   "id": "389d046d-b6cf-49e0-afb4-c8b59786a3d9",
   "metadata": {},
   "outputs": [
    {
     "data": {
      "text/plain": [
       "[[0, 8, 33], [0, 13, 33], [0, 19, 33], [0, 31, 33]]"
      ]
     },
     "execution_count": 46,
     "metadata": {},
     "output_type": "execute_result"
    }
   ],
   "source": [
    "list(nx.all_shortest_paths(G,0,33))"
   ]
  },
  {
   "cell_type": "code",
   "execution_count": 47,
   "id": "3027a65f-5299-4e08-88d8-9df928002e76",
   "metadata": {},
   "outputs": [
    {
     "data": {
      "text/plain": [
       "2"
      ]
     },
     "execution_count": 47,
     "metadata": {},
     "output_type": "execute_result"
    }
   ],
   "source": [
    "nx.shortest_path_length(G,0,33)"
   ]
  },
  {
   "cell_type": "code",
   "execution_count": null,
   "id": "61496c2e-313b-4949-b8f2-ca34f1929d07",
   "metadata": {},
   "outputs": [],
   "source": [
    "list(nx.shortest_path_length(G))"
   ]
  },
  {
   "cell_type": "markdown",
   "id": "3918a6be-da7c-4507-90e0-31efeab8ac80",
   "metadata": {},
   "source": [
    "#### Average Path Length"
   ]
  },
  {
   "cell_type": "code",
   "execution_count": 49,
   "id": "3dff2712-a46a-40ee-8316-d2863c8d135a",
   "metadata": {},
   "outputs": [
    {
     "data": {
      "text/plain": [
       "2.408199643493761"
      ]
     },
     "execution_count": 49,
     "metadata": {},
     "output_type": "execute_result"
    }
   ],
   "source": [
    "nx.average_shortest_path_length(G)"
   ]
  },
  {
   "cell_type": "markdown",
   "id": "45e0b97f-e923-473d-acb3-f2fb2bf8c622",
   "metadata": {},
   "source": [
    "#### Diametro"
   ]
  },
  {
   "cell_type": "code",
   "execution_count": 50,
   "id": "725a748a-396c-493a-adc9-4c725ba2110c",
   "metadata": {},
   "outputs": [
    {
     "data": {
      "text/plain": [
       "5"
      ]
     },
     "execution_count": 50,
     "metadata": {},
     "output_type": "execute_result"
    }
   ],
   "source": [
    "nx.diameter(G)"
   ]
  },
  {
   "cell_type": "markdown",
   "id": "4199ad95-5998-4aba-836d-ce65462c88f0",
   "metadata": {},
   "source": [
    "#### Densidad"
   ]
  },
  {
   "cell_type": "code",
   "execution_count": 51,
   "id": "513b53a7-9ada-4ae9-8c2a-6fb7ed3a6bb9",
   "metadata": {},
   "outputs": [
    {
     "data": {
      "text/plain": [
       "0.13903743315508021"
      ]
     },
     "execution_count": 51,
     "metadata": {},
     "output_type": "execute_result"
    }
   ],
   "source": [
    "nx.density(G)"
   ]
  },
  {
   "cell_type": "markdown",
   "id": "60944d08-3396-4b50-bbea-6dd63e93c5e6",
   "metadata": {},
   "source": [
    "#### Local Clustering Coefficient"
   ]
  },
  {
   "cell_type": "code",
   "execution_count": 52,
   "id": "aff1b838-7c3b-4a98-b1bd-23fb341ca3d8",
   "metadata": {},
   "outputs": [
    {
     "data": {
      "text/plain": [
       "0.5706384782076823"
      ]
     },
     "execution_count": 52,
     "metadata": {},
     "output_type": "execute_result"
    }
   ],
   "source": [
    "nx.average_clustering(G)"
   ]
  },
  {
   "cell_type": "markdown",
   "id": "85ea1f14-63c7-4735-a309-31f5d3b23711",
   "metadata": {},
   "source": [
    "## Layouts"
   ]
  },
  {
   "cell_type": "markdown",
   "id": "301e5388-1e47-4510-8328-8200d683eb18",
   "metadata": {},
   "source": [
    "Random"
   ]
  },
  {
   "cell_type": "code",
   "execution_count": null,
   "id": "69b4894a-cb7d-47a0-8952-2c6e6d7329b2",
   "metadata": {},
   "outputs": [],
   "source": [
    "nx.draw_random(G)"
   ]
  },
  {
   "cell_type": "markdown",
   "id": "f0ac1876-ad2f-4bce-93f7-ae23986f33c9",
   "metadata": {},
   "source": [
    "Circular"
   ]
  },
  {
   "cell_type": "code",
   "execution_count": null,
   "id": "0f9a38dd-773d-41b8-b394-98e0167cf1bb",
   "metadata": {},
   "outputs": [],
   "source": [
    "nx.draw_circular(G)"
   ]
  },
  {
   "cell_type": "markdown",
   "id": "af8ac3cc-78ef-4031-9934-045f23812517",
   "metadata": {},
   "source": [
    "Spectral"
   ]
  },
  {
   "cell_type": "code",
   "execution_count": null,
   "id": "edcd408d-b666-479e-8b64-a4b04691e395",
   "metadata": {},
   "outputs": [],
   "source": [
    "nx.draw_spectral(G)"
   ]
  },
  {
   "cell_type": "markdown",
   "id": "a123edeb-3a93-42bd-b32b-c4733a12ac5c",
   "metadata": {},
   "source": [
    "Shell"
   ]
  },
  {
   "cell_type": "code",
   "execution_count": null,
   "id": "dafb9f49-2e46-43e3-af3f-29b2d0049e44",
   "metadata": {},
   "outputs": [],
   "source": [
    "nx.draw_shell(G)"
   ]
  },
  {
   "cell_type": "markdown",
   "id": "6a6a6919-8db8-40e2-b952-707bf583e822",
   "metadata": {},
   "source": [
    "Spiral"
   ]
  },
  {
   "cell_type": "code",
   "execution_count": null,
   "id": "d24120b5-76e7-4c50-aeb1-0cdeb7057e9b",
   "metadata": {},
   "outputs": [],
   "source": [
    "pos =nx.spiral_layout(G)\n",
    "nx.draw_networkx(G, pos=pos)\n",
    "plt.show()"
   ]
  },
  {
   "cell_type": "markdown",
   "id": "61b40ec5",
   "metadata": {},
   "source": [
    "Elaborado por Luis Cajachahua bajo licencia MIT (2021)"
   ]
  }
 ],
 "metadata": {
  "kernelspec": {
   "display_name": "Python 3",
   "language": "python",
   "name": "python3"
  },
  "language_info": {
   "codemirror_mode": {
    "name": "ipython",
    "version": 3
   },
   "file_extension": ".py",
   "mimetype": "text/x-python",
   "name": "python",
   "nbconvert_exporter": "python",
   "pygments_lexer": "ipython3",
   "version": "3.8.8"
  }
 },
 "nbformat": 4,
 "nbformat_minor": 5
}
