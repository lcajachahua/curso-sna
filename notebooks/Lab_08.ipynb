{
 "cells": [
  {
   "cell_type": "markdown",
   "id": "a966240a",
   "metadata": {},
   "source": [
    "# Caso: Identificando Componentes en una Empresa"
   ]
  },
  {
   "cell_type": "markdown",
   "id": "8cdd59f7",
   "metadata": {},
   "source": [
    "## Cargar archivos csv\n",
    "Utilizamos un Call Detail Record de ejemplo\n",
    "##### Clientes llamantes: 199\n",
    "##### Clientes llamados: 400\n",
    "##### Horizonte de tiempo: De Nov-2012 a Ene-2014 (15 meses)"
   ]
  },
  {
   "cell_type": "code",
   "execution_count": null,
   "id": "d3530ac4",
   "metadata": {},
   "outputs": [],
   "source": [
    "import pandas as pd\n",
    "import numpy as np \n",
    "import matplotlib.pyplot as plt\n",
    "import networkx as nx\n",
    "import time"
   ]
  },
  {
   "cell_type": "code",
   "execution_count": null,
   "id": "9c772ff3",
   "metadata": {},
   "outputs": [],
   "source": [
    "h = pd.read_csv('../data/llamadas.csv')"
   ]
  },
  {
   "cell_type": "markdown",
   "id": "d10c7125",
   "metadata": {},
   "source": [
    "Revisamos la información del DataFrame"
   ]
  },
  {
   "cell_type": "code",
   "execution_count": null,
   "id": "c8aa31b9",
   "metadata": {},
   "outputs": [],
   "source": [
    "h.info()"
   ]
  },
  {
   "cell_type": "markdown",
   "id": "43d2e766",
   "metadata": {},
   "source": [
    "Transformamos el DataFrame en un Grafo dirigido con pesos (cantidad de llamadas y duración)"
   ]
  },
  {
   "cell_type": "code",
   "execution_count": null,
   "id": "16f65dd8",
   "metadata": {},
   "outputs": [],
   "source": [
    "G = nx.from_pandas_edgelist(h, source=\"fromuserid\", target=\"touserid\", edge_attr=[\"numbercalls\",\"secondscalls\"], create_using=nx.DiGraph())\n",
    "print(nx.info(G))"
   ]
  },
  {
   "cell_type": "markdown",
   "id": "63fc11f5",
   "metadata": {},
   "source": [
    "Crear la función top_nodes que mostrará los valores más altos de un diccionario"
   ]
  },
  {
   "cell_type": "markdown",
   "id": "4eca4665",
   "metadata": {},
   "source": [
    "#### Análisis de Conectividad"
   ]
  },
  {
   "cell_type": "markdown",
   "id": "2a0c8717",
   "metadata": {},
   "source": [
    "Guardar el grado de cada nodo en un diccionario"
   ]
  },
  {
   "cell_type": "code",
   "execution_count": null,
   "id": "44203e86",
   "metadata": {},
   "outputs": [],
   "source": [
    "nx.is_strongly_connected(G)"
   ]
  },
  {
   "cell_type": "code",
   "execution_count": null,
   "id": "58bfd7e6",
   "metadata": {},
   "outputs": [],
   "source": [
    "nx.is_weakly_connected(G)"
   ]
  },
  {
   "cell_type": "code",
   "execution_count": null,
   "id": "1f96c888",
   "metadata": {},
   "outputs": [],
   "source": [
    "nx.number_strongly_connected_components(G)"
   ]
  },
  {
   "cell_type": "code",
   "execution_count": null,
   "id": "ec7a75c7",
   "metadata": {},
   "outputs": [],
   "source": [
    "# list(nx.strongly_connected_components(G))"
   ]
  },
  {
   "cell_type": "code",
   "execution_count": null,
   "id": "58b1eb17",
   "metadata": {},
   "outputs": [],
   "source": [
    "nx.number_weakly_connected_components(G)"
   ]
  },
  {
   "cell_type": "code",
   "execution_count": null,
   "id": "dabd9242",
   "metadata": {},
   "outputs": [],
   "source": [
    "# list(nx.weakly_connected_components(G))"
   ]
  },
  {
   "cell_type": "markdown",
   "id": "f7bbc457",
   "metadata": {},
   "source": [
    "#### Extrayendo el Componente Fuertemente Conectado más grande de la Red"
   ]
  },
  {
   "cell_type": "code",
   "execution_count": null,
   "id": "d49ed108",
   "metadata": {},
   "outputs": [],
   "source": [
    "SC = max(nx.strongly_connected_components(G), key=len)\n",
    "print(SC)"
   ]
  },
  {
   "cell_type": "code",
   "execution_count": null,
   "id": "5d832841",
   "metadata": {},
   "outputs": [],
   "source": [
    "CF = G.subgraph(SC)"
   ]
  },
  {
   "cell_type": "code",
   "execution_count": null,
   "id": "897b75d4",
   "metadata": {},
   "outputs": [],
   "source": [
    "plt.figure(figsize=(80,45)) \n",
    "nx.draw_networkx(CF, width=0.1)"
   ]
  },
  {
   "cell_type": "markdown",
   "id": "47e3f837",
   "metadata": {},
   "source": [
    "#### Extrayendo el Componente Débilmente Conectado más grande de la Red"
   ]
  },
  {
   "cell_type": "code",
   "execution_count": null,
   "id": "547aba36",
   "metadata": {},
   "outputs": [],
   "source": [
    "WC = max(nx.weakly_connected_components(G), key=len)\n",
    "print(WC)"
   ]
  },
  {
   "cell_type": "code",
   "execution_count": null,
   "id": "a167de7f",
   "metadata": {},
   "outputs": [],
   "source": [
    "CD = G.subgraph(WC)"
   ]
  },
  {
   "cell_type": "code",
   "execution_count": null,
   "id": "0ea542dd",
   "metadata": {},
   "outputs": [],
   "source": [
    "plt.figure(figsize=(80,45)) \n",
    "nx.draw_networkx(CF, width=0.1)"
   ]
  },
  {
   "cell_type": "markdown",
   "id": "b50ed70c",
   "metadata": {},
   "source": [
    "Elaborado por Luis Cajachahua bajo licencia MIT (2021)"
   ]
  }
 ],
 "metadata": {
  "kernelspec": {
   "display_name": "Python 3",
   "language": "python",
   "name": "python3"
  },
  "language_info": {
   "codemirror_mode": {
    "name": "ipython",
    "version": 3
   },
   "file_extension": ".py",
   "mimetype": "text/x-python",
   "name": "python",
   "nbconvert_exporter": "python",
   "pygments_lexer": "ipython3",
   "version": "3.7.10"
  }
 },
 "nbformat": 4,
 "nbformat_minor": 5
}
